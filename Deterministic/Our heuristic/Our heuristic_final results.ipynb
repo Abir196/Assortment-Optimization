{
 "cells": [
  {
   "cell_type": "markdown",
   "metadata": {},
   "source": [
    "# Importing scores"
   ]
  },
  {
   "cell_type": "code",
   "execution_count": 1,
   "metadata": {},
   "outputs": [],
   "source": [
    "import pandas as pd\n",
    "\n",
    "data_sc = pd.read_csv('final scores 3000.csv')\n",
    "data_alp = pd.read_excel('data_scoring_initial.xlsx')"
   ]
  },
  {
   "cell_type": "code",
   "execution_count": 2,
   "metadata": {},
   "outputs": [
    {
     "data": {
      "text/html": [
       "<div>\n",
       "<style scoped>\n",
       "    .dataframe tbody tr th:only-of-type {\n",
       "        vertical-align: middle;\n",
       "    }\n",
       "\n",
       "    .dataframe tbody tr th {\n",
       "        vertical-align: top;\n",
       "    }\n",
       "\n",
       "    .dataframe thead th {\n",
       "        text-align: right;\n",
       "    }\n",
       "</style>\n",
       "<table border=\"1\" class=\"dataframe\">\n",
       "  <thead>\n",
       "    <tr style=\"text-align: right;\">\n",
       "      <th></th>\n",
       "      <th>Product</th>\n",
       "      <th>Volumes</th>\n",
       "      <th>Demand</th>\n",
       "      <th>Costs</th>\n",
       "      <th>Alphas</th>\n",
       "      <th>Price</th>\n",
       "    </tr>\n",
       "  </thead>\n",
       "  <tbody>\n",
       "    <tr>\n",
       "      <th>0</th>\n",
       "      <td>1</td>\n",
       "      <td>5.63</td>\n",
       "      <td>2</td>\n",
       "      <td>26</td>\n",
       "      <td>[0.0, 0.26, 0.21, 0.24, 0.16, 0.41, 0.27, 0.8,...</td>\n",
       "      <td>39.0</td>\n",
       "    </tr>\n",
       "    <tr>\n",
       "      <th>1</th>\n",
       "      <td>2</td>\n",
       "      <td>2.79</td>\n",
       "      <td>9</td>\n",
       "      <td>29</td>\n",
       "      <td>[0.67, 0.0, 0.63, 0.18, 0.35, 0.06, 0.23, 0.32...</td>\n",
       "      <td>43.5</td>\n",
       "    </tr>\n",
       "    <tr>\n",
       "      <th>2</th>\n",
       "      <td>3</td>\n",
       "      <td>2.93</td>\n",
       "      <td>11</td>\n",
       "      <td>97</td>\n",
       "      <td>[0.58, 0.85, 0.0, 0.64, 0.44, 0.09, 0.48, 0.1,...</td>\n",
       "      <td>145.5</td>\n",
       "    </tr>\n",
       "    <tr>\n",
       "      <th>3</th>\n",
       "      <td>4</td>\n",
       "      <td>3.50</td>\n",
       "      <td>10</td>\n",
       "      <td>90</td>\n",
       "      <td>[0.36, 0.57, 0.49, 0.0, 0.27, 0.56, 0.2, 0.21,...</td>\n",
       "      <td>135.0</td>\n",
       "    </tr>\n",
       "    <tr>\n",
       "      <th>4</th>\n",
       "      <td>5</td>\n",
       "      <td>4.23</td>\n",
       "      <td>14</td>\n",
       "      <td>27</td>\n",
       "      <td>[0.38, 0.45, 0.35, 0.05, 0.0, 0.18, 0.48, 0.31...</td>\n",
       "      <td>40.5</td>\n",
       "    </tr>\n",
       "  </tbody>\n",
       "</table>\n",
       "</div>"
      ],
      "text/plain": [
       "   Product  Volumes  Demand  Costs   \n",
       "0        1     5.63       2     26  \\\n",
       "1        2     2.79       9     29   \n",
       "2        3     2.93      11     97   \n",
       "3        4     3.50      10     90   \n",
       "4        5     4.23      14     27   \n",
       "\n",
       "                                              Alphas  Price  \n",
       "0  [0.0, 0.26, 0.21, 0.24, 0.16, 0.41, 0.27, 0.8,...   39.0  \n",
       "1  [0.67, 0.0, 0.63, 0.18, 0.35, 0.06, 0.23, 0.32...   43.5  \n",
       "2  [0.58, 0.85, 0.0, 0.64, 0.44, 0.09, 0.48, 0.1,...  145.5  \n",
       "3  [0.36, 0.57, 0.49, 0.0, 0.27, 0.56, 0.2, 0.21,...  135.0  \n",
       "4  [0.38, 0.45, 0.35, 0.05, 0.0, 0.18, 0.48, 0.31...   40.5  "
      ]
     },
     "execution_count": 2,
     "metadata": {},
     "output_type": "execute_result"
    }
   ],
   "source": [
    "data_alp.head()"
   ]
  },
  {
   "cell_type": "code",
   "execution_count": 3,
   "metadata": {},
   "outputs": [
    {
     "name": "stdout",
     "output_type": "stream",
     "text": [
      "<class 'list'>\n",
      "3000\n"
     ]
    }
   ],
   "source": [
    "import ast\n",
    "data_alp['Alphas'] = data_alp['Alphas'].apply(ast.literal_eval)\n",
    "print(type(data_alp['Alphas'][0]))\n",
    "\n",
    "# Check the length of the first list in the 'Alphas' column\n",
    "print(len(data_alp['Alphas'][0]))"
   ]
  },
  {
   "cell_type": "code",
   "execution_count": 4,
   "metadata": {},
   "outputs": [],
   "source": [
    "data_sc['Alphas'] = data_alp['Alphas']"
   ]
  },
  {
   "cell_type": "code",
   "execution_count": 6,
   "metadata": {},
   "outputs": [],
   "source": [
    "data = data_sc[['Product', 'Volumes', 'Demand', 'Alphas', 'Costs', 'Price', 'Scores']]"
   ]
  },
  {
   "cell_type": "code",
   "execution_count": 7,
   "metadata": {},
   "outputs": [
    {
     "data": {
      "text/html": [
       "<div>\n",
       "<style scoped>\n",
       "    .dataframe tbody tr th:only-of-type {\n",
       "        vertical-align: middle;\n",
       "    }\n",
       "\n",
       "    .dataframe tbody tr th {\n",
       "        vertical-align: top;\n",
       "    }\n",
       "\n",
       "    .dataframe thead th {\n",
       "        text-align: right;\n",
       "    }\n",
       "</style>\n",
       "<table border=\"1\" class=\"dataframe\">\n",
       "  <thead>\n",
       "    <tr style=\"text-align: right;\">\n",
       "      <th></th>\n",
       "      <th>Product</th>\n",
       "      <th>Volumes</th>\n",
       "      <th>Demand</th>\n",
       "      <th>Alphas</th>\n",
       "      <th>Costs</th>\n",
       "      <th>Price</th>\n",
       "      <th>Scores</th>\n",
       "    </tr>\n",
       "  </thead>\n",
       "  <tbody>\n",
       "    <tr>\n",
       "      <th>0</th>\n",
       "      <td>1</td>\n",
       "      <td>5.63</td>\n",
       "      <td>2</td>\n",
       "      <td>[0.0, 0.26, 0.21, 0.24, 0.16, 0.41, 0.27, 0.8,...</td>\n",
       "      <td>26</td>\n",
       "      <td>39.0</td>\n",
       "      <td>0.003061</td>\n",
       "    </tr>\n",
       "    <tr>\n",
       "      <th>1</th>\n",
       "      <td>2</td>\n",
       "      <td>2.79</td>\n",
       "      <td>9</td>\n",
       "      <td>[0.67, 0.0, 0.63, 0.18, 0.35, 0.06, 0.23, 0.32...</td>\n",
       "      <td>29</td>\n",
       "      <td>43.5</td>\n",
       "      <td>0.003061</td>\n",
       "    </tr>\n",
       "    <tr>\n",
       "      <th>2</th>\n",
       "      <td>3</td>\n",
       "      <td>2.93</td>\n",
       "      <td>11</td>\n",
       "      <td>[0.58, 0.85, 0.0, 0.64, 0.44, 0.09, 0.48, 0.1,...</td>\n",
       "      <td>97</td>\n",
       "      <td>145.5</td>\n",
       "      <td>0.255343</td>\n",
       "    </tr>\n",
       "    <tr>\n",
       "      <th>3</th>\n",
       "      <td>4</td>\n",
       "      <td>3.50</td>\n",
       "      <td>10</td>\n",
       "      <td>[0.36, 0.57, 0.49, 0.0, 0.27, 0.56, 0.2, 0.21,...</td>\n",
       "      <td>90</td>\n",
       "      <td>135.0</td>\n",
       "      <td>0.107907</td>\n",
       "    </tr>\n",
       "    <tr>\n",
       "      <th>4</th>\n",
       "      <td>5</td>\n",
       "      <td>4.23</td>\n",
       "      <td>14</td>\n",
       "      <td>[0.38, 0.45, 0.35, 0.05, 0.0, 0.18, 0.48, 0.31...</td>\n",
       "      <td>27</td>\n",
       "      <td>40.5</td>\n",
       "      <td>0.003061</td>\n",
       "    </tr>\n",
       "  </tbody>\n",
       "</table>\n",
       "</div>"
      ],
      "text/plain": [
       "   Product  Volumes  Demand   \n",
       "0        1     5.63       2  \\\n",
       "1        2     2.79       9   \n",
       "2        3     2.93      11   \n",
       "3        4     3.50      10   \n",
       "4        5     4.23      14   \n",
       "\n",
       "                                              Alphas  Costs  Price    Scores  \n",
       "0  [0.0, 0.26, 0.21, 0.24, 0.16, 0.41, 0.27, 0.8,...     26   39.0  0.003061  \n",
       "1  [0.67, 0.0, 0.63, 0.18, 0.35, 0.06, 0.23, 0.32...     29   43.5  0.003061  \n",
       "2  [0.58, 0.85, 0.0, 0.64, 0.44, 0.09, 0.48, 0.1,...     97  145.5  0.255343  \n",
       "3  [0.36, 0.57, 0.49, 0.0, 0.27, 0.56, 0.2, 0.21,...     90  135.0  0.107907  \n",
       "4  [0.38, 0.45, 0.35, 0.05, 0.0, 0.18, 0.48, 0.31...     27   40.5  0.003061  "
      ]
     },
     "execution_count": 7,
     "metadata": {},
     "output_type": "execute_result"
    }
   ],
   "source": [
    "data.head()"
   ]
  },
  {
   "cell_type": "markdown",
   "metadata": {},
   "source": [
    "Products ranking"
   ]
  },
  {
   "cell_type": "code",
   "execution_count": 8,
   "metadata": {},
   "outputs": [],
   "source": [
    "data = data.sort_values(by='Scores', ascending=False)"
   ]
  },
  {
   "cell_type": "code",
   "execution_count": 9,
   "metadata": {},
   "outputs": [],
   "source": [
    "df = data.head(100)"
   ]
  },
  {
   "cell_type": "code",
   "execution_count": 10,
   "metadata": {},
   "outputs": [],
   "source": [
    "alphas = list(df['Alphas'])"
   ]
  },
  {
   "cell_type": "code",
   "execution_count": 11,
   "metadata": {},
   "outputs": [
    {
     "data": {
      "text/html": [
       "<div>\n",
       "<style scoped>\n",
       "    .dataframe tbody tr th:only-of-type {\n",
       "        vertical-align: middle;\n",
       "    }\n",
       "\n",
       "    .dataframe tbody tr th {\n",
       "        vertical-align: top;\n",
       "    }\n",
       "\n",
       "    .dataframe thead th {\n",
       "        text-align: right;\n",
       "    }\n",
       "</style>\n",
       "<table border=\"1\" class=\"dataframe\">\n",
       "  <thead>\n",
       "    <tr style=\"text-align: right;\">\n",
       "      <th></th>\n",
       "      <th>Product</th>\n",
       "      <th>Volumes</th>\n",
       "      <th>Demand</th>\n",
       "      <th>Alphas</th>\n",
       "      <th>Costs</th>\n",
       "      <th>Price</th>\n",
       "      <th>Scores</th>\n",
       "    </tr>\n",
       "  </thead>\n",
       "  <tbody>\n",
       "    <tr>\n",
       "      <th>1520</th>\n",
       "      <td>1521</td>\n",
       "      <td>3.93</td>\n",
       "      <td>14</td>\n",
       "      <td>[0.87, 0.02, 0.33, 0.82, 0.66, 0.2, 0.31, 0.59...</td>\n",
       "      <td>96</td>\n",
       "      <td>144.0</td>\n",
       "      <td>0.528166</td>\n",
       "    </tr>\n",
       "    <tr>\n",
       "      <th>1229</th>\n",
       "      <td>1230</td>\n",
       "      <td>6.28</td>\n",
       "      <td>7</td>\n",
       "      <td>[0.88, 0.54, 0.12, 0.73, 0.68, 0.33, 0.31, 0.5...</td>\n",
       "      <td>97</td>\n",
       "      <td>145.5</td>\n",
       "      <td>0.510287</td>\n",
       "    </tr>\n",
       "    <tr>\n",
       "      <th>2817</th>\n",
       "      <td>2818</td>\n",
       "      <td>1.77</td>\n",
       "      <td>2</td>\n",
       "      <td>[0.11, 0.21, 0.76, 0.21, 0.24, 0.7, 0.04, 0.39...</td>\n",
       "      <td>100</td>\n",
       "      <td>150.0</td>\n",
       "      <td>0.506592</td>\n",
       "    </tr>\n",
       "    <tr>\n",
       "      <th>1129</th>\n",
       "      <td>1130</td>\n",
       "      <td>0.80</td>\n",
       "      <td>15</td>\n",
       "      <td>[0.17, 0.37, 0.76, 0.87, 0.47, 0.57, 0.01, 0.0...</td>\n",
       "      <td>100</td>\n",
       "      <td>150.0</td>\n",
       "      <td>0.503305</td>\n",
       "    </tr>\n",
       "    <tr>\n",
       "      <th>2148</th>\n",
       "      <td>2149</td>\n",
       "      <td>2.64</td>\n",
       "      <td>4</td>\n",
       "      <td>[0.1, 0.08, 0.77, 0.5, 0.44, 0.2, 0.68, 0.18, ...</td>\n",
       "      <td>94</td>\n",
       "      <td>141.0</td>\n",
       "      <td>0.466261</td>\n",
       "    </tr>\n",
       "  </tbody>\n",
       "</table>\n",
       "</div>"
      ],
      "text/plain": [
       "      Product  Volumes  Demand   \n",
       "1520     1521     3.93      14  \\\n",
       "1229     1230     6.28       7   \n",
       "2817     2818     1.77       2   \n",
       "1129     1130     0.80      15   \n",
       "2148     2149     2.64       4   \n",
       "\n",
       "                                                 Alphas  Costs  Price   \n",
       "1520  [0.87, 0.02, 0.33, 0.82, 0.66, 0.2, 0.31, 0.59...     96  144.0  \\\n",
       "1229  [0.88, 0.54, 0.12, 0.73, 0.68, 0.33, 0.31, 0.5...     97  145.5   \n",
       "2817  [0.11, 0.21, 0.76, 0.21, 0.24, 0.7, 0.04, 0.39...    100  150.0   \n",
       "1129  [0.17, 0.37, 0.76, 0.87, 0.47, 0.57, 0.01, 0.0...    100  150.0   \n",
       "2148  [0.1, 0.08, 0.77, 0.5, 0.44, 0.2, 0.68, 0.18, ...     94  141.0   \n",
       "\n",
       "        Scores  \n",
       "1520  0.528166  \n",
       "1229  0.510287  \n",
       "2817  0.506592  \n",
       "1129  0.503305  \n",
       "2148  0.466261  "
      ]
     },
     "execution_count": 11,
     "metadata": {},
     "output_type": "execute_result"
    }
   ],
   "source": [
    "df.head()"
   ]
  },
  {
   "cell_type": "markdown",
   "metadata": {},
   "source": [
    "# The heuristic: include the high ranked"
   ]
  },
  {
   "cell_type": "code",
   "execution_count": 12,
   "metadata": {},
   "outputs": [],
   "source": [
    "def optimal_assortment_with_u(scores, demands, alpha_matrix, shelf_constraint, K_T, delta, assortment_limit):\n",
    "    # Step 1: Rank the products in descending order based on their scores\n",
    "    sorted_indices = list(np.array(df['Product'])-1)\n",
    "    print(sorted_indices)\n",
    "    \n",
    "    # Step 2: Select products i from the ranked list until the shelf constraint C is reached\n",
    "    assortment = []\n",
    "    u_values = {}  # Dictionary to store the values of u_i for each product i\n",
    "    remaining_shelf_constraint = shelf_constraint\n",
    "    \n",
    "    for i in sorted_indices:\n",
    "        u_i = K_T * demands[i]\n",
    "        \n",
    "        # Check if selecting product i exceeds the shelf constraint C\n",
    "        if u_i <= remaining_shelf_constraint:\n",
    "            assortment.append(i)\n",
    "            u_values[i] = u_i\n",
    "            remaining_shelf_constraint -= u_i\n",
    "            if len(assortment) == assortment_limit:  # Check if assortment limit is reached\n",
    "                break\n",
    "    \n",
    "    # Step 3 and 4: Update u_i to include assortment-based substitution terms\n",
    "    while True:\n",
    "        updated_assortment = []\n",
    "        for i in assortment:\n",
    "            u_i = K_T * demands[i] + delta * K_T * sum(alpha_matrix[sorted_indices.index(j)][sorted_indices.index(i)] * demands[j] for j in sorted_indices if j not in assortment)\n",
    "            \n",
    "            # Check if the updated u_i exceeds the shelf constraint C\n",
    "            if u_i <= shelf_constraint:\n",
    "                updated_assortment.append(i)\n",
    "                u_values[i] = u_i\n",
    "                shelf_constraint -= u_i\n",
    "        # Check if an equilibrium is reached (no changes in the assortment)\n",
    "        if assortment == updated_assortment:\n",
    "            break\n",
    "        \n",
    "        assortment = updated_assortment\n",
    "    \n",
    "    res = []\n",
    "    for i in assortment:\n",
    "        res.append(((i, u_values[i])))\n",
    "    \n",
    "    # Step 5: Return the final assortment set A and the values of u_i\n",
    "    return res\n"
   ]
  },
  {
   "cell_type": "code",
   "execution_count": null,
   "metadata": {},
   "outputs": [],
   "source": [
    "import numpy as np\n",
    "C = 100*np.dot(np.array(df['Demand']), np.array(df['Volumes']))"
   ]
  },
  {
   "cell_type": "code",
   "execution_count": null,
   "metadata": {},
   "outputs": [],
   "source": [
    "K_T = 100\n",
    "delta_value = 0.5\n",
    "limit_assort = 20\n",
    "final_res = optimal_assortment_with_u(df['Scores'], df['Demand'], alphas, C, K_T, delta_value, limit_assort )"
   ]
  }
 ],
 "metadata": {
  "kernelspec": {
   "display_name": "Python 3",
   "language": "python",
   "name": "python3"
  },
  "language_info": {
   "codemirror_mode": {
    "name": "ipython",
    "version": 3
   },
   "file_extension": ".py",
   "mimetype": "text/x-python",
   "name": "python",
   "nbconvert_exporter": "python",
   "pygments_lexer": "ipython3",
   "version": "3.10.6"
  },
  "orig_nbformat": 4
 },
 "nbformat": 4,
 "nbformat_minor": 2
}
